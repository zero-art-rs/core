{
 "cells": [
  {
   "cell_type": "code",
   "execution_count": 3,
   "id": "8d00a0d2-b787-402d-9fc7-af88abba35c9",
   "metadata": {},
   "outputs": [
    {
     "name": "stdout",
     "output_type": "stream",
     "text": [
      "CPU times: user 447 µs, sys: 0 ns, total: 447 µs\n",
      "Wall time: 450 µs\n"
     ]
    }
   ],
   "source": [
    "%%time\n",
    "from sage.all import *\n",
    "\n",
    "class BN381Pairing:\n",
    "    def __init__(self):\n",
    "        BN381_1 = {\n",
    "            \"p\": 0x240480360120023ffffffffff6ff0cf6b7d9bfca0000000000d812908f41c8020ffffffffff6ff66fc6ff687f640000000002401b00840138013,\n",
    "            \"r\": 0x240480360120023ffffffffff6ff0cf6b7d9bfca0000000000d812908ee1c201f7fffffffff6ff66fc7bf717f7c0000000002401b007e010800d,\n",
    "            \"P\": (0x21a6d67ef250191fadba34a0a30160b9ac9264b6f95f63b3edbec3cf4b2e689db1bbb4e69a416a0b1e79239c0372e5cd70113c98d91f36b6980d, \n",
    "                  0x0118ea0460f7f7abb82b33676a7432a490eeda842cccfa7d788c659650426e6af77df11b8ae40eb80f475432c66600622ecaa8a5734d36fb03de),\n",
    "            \"b\": 5\n",
    "        }\n",
    "        Fp = GF(BN381_1[\"p\"])\n",
    "\n",
    "        self.E0 = EllipticCurve(Fp, [0,BN381_1[\"b\"]])\n",
    "        self.E0.set_order(BN381_1[\"r\"])\n",
    "\n",
    "        Fp12.<x> = GF(BN381_1[\"p\"]^12)\n",
    "        RF.<T> = PolynomialRing(Fp12)\n",
    "        i = (T^2 + 1).roots(ring=Fp12, multiplicities=0)[0]\n",
    "\n",
    "        BN381_2 = {\n",
    "            \"P\": (0x0257ccc85b58dda0dfb38e3a8cbdc5482e0337e7c1cd96ed61c913820408208f9ad2699bad92e0032ae1f0aa6a8b48807695468e3d934ae1e4df+\n",
    "          0x1d2e4343e8599102af8edca849566ba3c98e2a354730cbed9176884058b18134dd86bae555b783718f50af8b59bf7e850e9b73108ba6aa8cd283*i, \n",
    "          0x0a0650439da22c1979517427a20809eca035634706e23c3fa7a6bb42fe810f1399a1f41c9ddae32e03695a140e7b11d7c3376e5b68df0db7154e+\n",
    "          0x073ef0cbd438cbe0172c8ae37306324d44d5e6b0c69ac57b393f1ab370fd725cc647692444a04ef87387aa68d53743493b9eba14cc552ca2a93a*i),\n",
    "            \"b\": -i+2\n",
    "        }\n",
    "        self.r = BN381_1[\"r\"]\n",
    "        self.E1 = EllipticCurve(Fp12, [0,BN381_1[\"b\"]])\n",
    "        self.E2 = EllipticCurve(Fp12, [0,BN381_2[\"b\"]])\n",
    "        self.phi = self.E2.isomorphism_to(self.E1)\n",
    "\n",
    "\n",
    "        self.P1=self.E1(BN381_1[\"P\"])\n",
    "        self.P2=self.E2(BN381_2[\"P\"])\n",
    "        \n",
    "    def e(self, P, Q):\n",
    "        return P.tate_pairing(self.phi(Q), self.r, k=12)"
   ]
  },
  {
   "cell_type": "code",
   "execution_count": null,
   "id": "91e00e51",
   "metadata": {},
   "outputs": [],
   "source": []
  },
  {
   "cell_type": "code",
   "execution_count": 18,
   "id": "81541723-a78c-4f83-902b-94de44ab5e73",
   "metadata": {},
   "outputs": [
    {
     "ename": "SignalError",
     "evalue": "Segmentation fault",
     "output_type": "error",
     "traceback": [
      "\u001b[0;31m---------------------------------------------------------------------------\u001b[0m",
      "\u001b[0;31mSignalError\u001b[0m                               Traceback (most recent call last)",
      "File \u001b[0;32m<timed exec>:1\u001b[0m\n",
      "File \u001b[0;32m<timed exec>:17\u001b[0m, in \u001b[0;36m__init__\u001b[0;34m(self)\u001b[0m\n",
      "File \u001b[0;32m~/juja_backup/projects/other/sage/src/sage/structure/factory.pyx:371\u001b[0m, in \u001b[0;36msage.structure.factory.UniqueFactory.__call__\u001b[0;34m()\u001b[0m\n\u001b[1;32m    369\u001b[0m     False\n\u001b[1;32m    370\u001b[0m \"\"\"\n\u001b[0;32m--> 371\u001b[0m key, kwds = self.create_key_and_extra_args(*args, **kwds)\n\u001b[1;32m    372\u001b[0m version = self.get_version(sage_version)\n\u001b[1;32m    373\u001b[0m return self.get_object(version, key, kwds)\n",
      "File \u001b[0;32m~/juja_backup/projects/other/sage/src/sage/rings/finite_rings/finite_field_constructor.py:643\u001b[0m, in \u001b[0;36mFiniteFieldFactory.create_key_and_extra_args\u001b[0;34m(self, order, name, modulus, names, impl, proof, check_prime, check_irreducible, prefix, repr, elem_cache, **kwds)\u001b[0m\n\u001b[1;32m    641\u001b[0m R \u001b[38;5;241m=\u001b[39m PolynomialRing(FiniteField(p), \u001b[38;5;124m'\u001b[39m\u001b[38;5;124mx\u001b[39m\u001b[38;5;124m'\u001b[39m)\n\u001b[1;32m    642\u001b[0m \u001b[38;5;28;01mif\u001b[39;00m modulus \u001b[38;5;129;01mis\u001b[39;00m \u001b[38;5;28;01mNone\u001b[39;00m:\n\u001b[0;32m--> 643\u001b[0m     modulus \u001b[38;5;241m=\u001b[39m \u001b[43mR\u001b[49m\u001b[38;5;241;43m.\u001b[39;49m\u001b[43mirreducible_element\u001b[49m\u001b[43m(\u001b[49m\u001b[43mn\u001b[49m\u001b[43m)\u001b[49m\n\u001b[1;32m    644\u001b[0m \u001b[38;5;28;01mif\u001b[39;00m \u001b[38;5;28misinstance\u001b[39m(modulus, \u001b[38;5;28mstr\u001b[39m):\n\u001b[1;32m    645\u001b[0m     \u001b[38;5;66;03m# A string specifies an algorithm to find a suitable modulus.\u001b[39;00m\n\u001b[1;32m    646\u001b[0m     \u001b[38;5;28;01mif\u001b[39;00m modulus \u001b[38;5;241m!=\u001b[39m \u001b[38;5;124m\"\u001b[39m\u001b[38;5;124mrandom\u001b[39m\u001b[38;5;124m\"\u001b[39m \u001b[38;5;129;01mand\u001b[39;00m modulus \u001b[38;5;129;01min\u001b[39;00m \u001b[38;5;28mself\u001b[39m\u001b[38;5;241m.\u001b[39m_modulus_cache[order]:\n",
      "File \u001b[0;32m~/juja_backup/projects/other/sage/src/sage/rings/polynomial/polynomial_ring.py:3637\u001b[0m, in \u001b[0;36mPolynomialRing_dense_mod_p.irreducible_element\u001b[0;34m(self, n, algorithm)\u001b[0m\n\u001b[1;32m   3634\u001b[0m         algorithm \u001b[38;5;241m=\u001b[39m \u001b[38;5;124m\"\u001b[39m\u001b[38;5;124mffprimroot\u001b[39m\u001b[38;5;124m\"\u001b[39m\n\u001b[1;32m   3636\u001b[0m \u001b[38;5;28;01mif\u001b[39;00m algorithm \u001b[38;5;241m==\u001b[39m \u001b[38;5;124m\"\u001b[39m\u001b[38;5;124madleman-lenstra\u001b[39m\u001b[38;5;124m\"\u001b[39m:\n\u001b[0;32m-> 3637\u001b[0m     \u001b[38;5;28;01mreturn\u001b[39;00m \u001b[38;5;28;43mself\u001b[39;49m\u001b[43m(\u001b[49m\u001b[43mpari\u001b[49m\u001b[43m(\u001b[49m\u001b[43mp\u001b[49m\u001b[43m)\u001b[49m\u001b[38;5;241;43m.\u001b[39;49m\u001b[43mffinit\u001b[49m\u001b[43m(\u001b[49m\u001b[43mn\u001b[49m\u001b[43m)\u001b[49m\u001b[43m)\u001b[49m\n\u001b[1;32m   3638\u001b[0m \u001b[38;5;28;01melif\u001b[39;00m algorithm \u001b[38;5;241m==\u001b[39m \u001b[38;5;124m\"\u001b[39m\u001b[38;5;124mconway\u001b[39m\u001b[38;5;124m\"\u001b[39m:\n\u001b[1;32m   3639\u001b[0m     \u001b[38;5;28;01mreturn\u001b[39;00m \u001b[38;5;28mself\u001b[39m(conway_polynomial(p, n))\n",
      "File \u001b[0;32m~/juja_backup/projects/other/sage/src/sage/structure/parent.pyx:901\u001b[0m, in \u001b[0;36msage.structure.parent.Parent.__call__\u001b[0;34m()\u001b[0m\n\u001b[1;32m    899\u001b[0m if mor is not None:\n\u001b[1;32m    900\u001b[0m     if no_extra_args:\n\u001b[0;32m--> 901\u001b[0m         return mor._call_(x)\n\u001b[1;32m    902\u001b[0m     else:\n\u001b[1;32m    903\u001b[0m         return mor._call_with_args(x, args, kwds)\n",
      "File \u001b[0;32m~/juja_backup/projects/other/sage/src/sage/structure/coerce_maps.pyx:159\u001b[0m, in \u001b[0;36msage.structure.coerce_maps.DefaultConvertMap_unique._call_\u001b[0;34m()\u001b[0m\n\u001b[1;32m    157\u001b[0m cdef Parent C = self._codomain\n\u001b[1;32m    158\u001b[0m try:\n\u001b[0;32m--> 159\u001b[0m     return C._element_constructor(x)\n\u001b[1;32m    160\u001b[0m except Exception:\n\u001b[1;32m    161\u001b[0m     if print_warnings:\n",
      "File \u001b[0;32m~/juja_backup/projects/other/sage/src/sage/rings/polynomial/polynomial_ring.py:498\u001b[0m, in \u001b[0;36mPolynomialRing_general._element_constructor_\u001b[0;34m(self, x, check, is_gen, construct, **kwds)\u001b[0m\n\u001b[1;32m    496\u001b[0m \u001b[38;5;28;01melif\u001b[39;00m \u001b[38;5;28misinstance\u001b[39m(x, PowerSeries):\n\u001b[1;32m    497\u001b[0m     x \u001b[38;5;241m=\u001b[39m x\u001b[38;5;241m.\u001b[39mtruncate()\n\u001b[0;32m--> 498\u001b[0m \u001b[38;5;28;01mreturn\u001b[39;00m \u001b[43mC\u001b[49m\u001b[43m(\u001b[49m\u001b[38;5;28;43mself\u001b[39;49m\u001b[43m,\u001b[49m\u001b[43m \u001b[49m\u001b[43mx\u001b[49m\u001b[43m,\u001b[49m\u001b[43m \u001b[49m\u001b[43mcheck\u001b[49m\u001b[43m,\u001b[49m\u001b[43m \u001b[49m\u001b[43mis_gen\u001b[49m\u001b[43m,\u001b[49m\u001b[43m \u001b[49m\u001b[43mconstruct\u001b[49m\u001b[38;5;241;43m=\u001b[39;49m\u001b[43mconstruct\u001b[49m\u001b[43m,\u001b[49m\u001b[43m \u001b[49m\u001b[38;5;241;43m*\u001b[39;49m\u001b[38;5;241;43m*\u001b[39;49m\u001b[43mkwds\u001b[49m\u001b[43m)\u001b[49m\n",
      "File \u001b[0;32m~/juja_backup/projects/other/sage/src/sage/rings/polynomial/polynomial_modn_dense_ntl.pyx:135\u001b[0m, in \u001b[0;36msage.rings.polynomial.polynomial_modn_dense_ntl.Polynomial_dense_mod_n.__init__\u001b[0;34m()\u001b[0m\n\u001b[1;32m    133\u001b[0m \n\u001b[1;32m    134\u001b[0m         elif isinstance(x, pari_gen):\n\u001b[0;32m--> 135\u001b[0m             x = [ZZ(w) for w in x.list()]\n\u001b[1;32m    136\u001b[0m             check = False\n\u001b[1;32m    137\u001b[0m \n",
      "File \u001b[0;32m~/juja_backup/projects/other/sage/local/var/lib/sage/venv-python3.12/lib/python3.12/site-packages/cypari2/gen.pyx:460\u001b[0m, in \u001b[0;36mcypari2.gen.Gen.list\u001b[0;34m()\u001b[0m\n\u001b[1;32m    458\u001b[0m     [[1, 2, 3]~, [4, 5, 6]~]\n\u001b[1;32m    459\u001b[0m     \"\"\"\n\u001b[0;32m--> 460\u001b[0m     return [x for x in self]\n\u001b[1;32m    461\u001b[0m \n\u001b[1;32m    462\u001b[0m def __reduce__(self):\n",
      "File \u001b[0;32m~/juja_backup/projects/other/sage/local/var/lib/sage/venv-python3.12/lib/python3.12/site-packages/cypari2/gen.pyx:418\u001b[0m, in \u001b[0;36mcypari2.gen.Gen.__iter__\u001b[0;34m()\u001b[0m\n\u001b[1;32m    416\u001b[0m \n\u001b[1;32m    417\u001b[0m         # Now iterate over the vector v\n\u001b[0;32m--> 418\u001b[0m         x = v.fixGEN()\n\u001b[1;32m    419\u001b[0m         return (v.new_ref(gel(x, i)) for i in range(1, lg(x)))\n\u001b[1;32m    420\u001b[0m \n",
      "File \u001b[0;32m~/juja_backup/projects/other/sage/local/var/lib/sage/venv-python3.12/lib/python3.12/site-packages/cypari2/gen.pyx:210\u001b[0m, in \u001b[0;36mcypari2.gen.Gen.fixGEN\u001b[0;34m()\u001b[0m\n\u001b[1;32m    208\u001b[0m \"\"\"\n\u001b[1;32m    209\u001b[0m if self.next is not None:\n\u001b[0;32m--> 210\u001b[0m     move_gens_to_heap(self.sp())\n\u001b[1;32m    211\u001b[0m return self.g\n\u001b[1;32m    212\u001b[0m \n",
      "File \u001b[0;32m~/juja_backup/projects/other/sage/local/var/lib/sage/venv-python3.12/lib/python3.12/site-packages/cypari2/stack.pyx:123\u001b[0m, in \u001b[0;36mcypari2.stack.move_gens_to_heap\u001b[0;34m()\u001b[0m\n\u001b[1;32m    121\u001b[0m while avma <= lim and stackbottom is not <PyObject*>top_of_stack:\n\u001b[1;32m    122\u001b[0m     current = <Gen>stackbottom\n\u001b[0;32m--> 123\u001b[0m     sig_on()\n\u001b[1;32m    124\u001b[0m     current.g = gclone(current.g)\n\u001b[1;32m    125\u001b[0m     sig_block()\n",
      "\u001b[0;31mSignalError\u001b[0m: Segmentation fault"
     ]
    }
   ],
   "source": [
    "%%time\n",
    "pe = BN381Pairing()\n",
    "pe.E0.twists()"
   ]
  },
  {
   "cell_type": "code",
   "execution_count": 17,
   "id": "5904c5c1-ea43-4758-b45a-bd84c3f9aa71",
   "metadata": {},
   "outputs": [
    {
     "ename": "SignalError",
     "evalue": "Segmentation fault",
     "output_type": "error",
     "traceback": [
      "\u001b[0;31m---------------------------------------------------------------------------\u001b[0m",
      "\u001b[0;31mSignalError\u001b[0m                               Traceback (most recent call last)",
      "Cell \u001b[0;32mIn[17], line 1\u001b[0m\n\u001b[0;32m----> 1\u001b[0m \u001b[43mpe\u001b[49m\u001b[38;5;241;43m.\u001b[39;49m\u001b[43mE1\u001b[49m\u001b[38;5;241;43m.\u001b[39;49m\u001b[43mautomorphisms\u001b[49m\u001b[43m(\u001b[49m\u001b[43m)\u001b[49m\n",
      "File \u001b[0;32m~/juja_backup/projects/other/sage/src/sage/schemes/elliptic_curves/ell_generic.py:2757\u001b[0m, in \u001b[0;36mEllipticCurve_generic.automorphisms\u001b[0;34m(self, field)\u001b[0m\n\u001b[1;32m   2755\u001b[0m \u001b[38;5;28;01mif\u001b[39;00m field \u001b[38;5;129;01mis\u001b[39;00m \u001b[38;5;129;01mnot\u001b[39;00m \u001b[38;5;28;01mNone\u001b[39;00m:\n\u001b[1;32m   2756\u001b[0m     \u001b[38;5;28mself\u001b[39m \u001b[38;5;241m=\u001b[39m \u001b[38;5;28mself\u001b[39m\u001b[38;5;241m.\u001b[39mchange_ring(field)\n\u001b[0;32m-> 2757\u001b[0m \u001b[38;5;28;01mreturn\u001b[39;00m \u001b[38;5;28;43mself\u001b[39;49m\u001b[38;5;241;43m.\u001b[39;49m\u001b[43misomorphisms\u001b[49m\u001b[43m(\u001b[49m\u001b[38;5;28;43mself\u001b[39;49m\u001b[43m)\u001b[49m\n",
      "File \u001b[0;32m~/juja_backup/projects/other/sage/src/sage/schemes/elliptic_curves/ell_generic.py:2813\u001b[0m, in \u001b[0;36mEllipticCurve_generic.isomorphisms\u001b[0;34m(self, other, field)\u001b[0m\n\u001b[1;32m   2811\u001b[0m     \u001b[38;5;28mself\u001b[39m \u001b[38;5;241m=\u001b[39m \u001b[38;5;28mself\u001b[39m\u001b[38;5;241m.\u001b[39mchange_ring(field)\n\u001b[1;32m   2812\u001b[0m     other \u001b[38;5;241m=\u001b[39m other\u001b[38;5;241m.\u001b[39mchange_ring(field)\n\u001b[0;32m-> 2813\u001b[0m \u001b[38;5;28;01mreturn\u001b[39;00m \u001b[38;5;28;43msorted\u001b[39;49m\u001b[43m(\u001b[49m\u001b[43mwm\u001b[49m\u001b[38;5;241;43m.\u001b[39;49m\u001b[43mWeierstrassIsomorphism\u001b[49m\u001b[43m(\u001b[49m\u001b[38;5;28;43mself\u001b[39;49m\u001b[43m,\u001b[49m\u001b[43m \u001b[49m\u001b[43murst\u001b[49m\u001b[43m,\u001b[49m\u001b[43m \u001b[49m\u001b[43mother\u001b[49m\u001b[43m)\u001b[49m\n\u001b[1;32m   2814\u001b[0m \u001b[43m              \u001b[49m\u001b[38;5;28;43;01mfor\u001b[39;49;00m\u001b[43m \u001b[49m\u001b[43murst\u001b[49m\u001b[43m \u001b[49m\u001b[38;5;129;43;01min\u001b[39;49;00m\u001b[43m \u001b[49m\u001b[43mwm\u001b[49m\u001b[38;5;241;43m.\u001b[39;49m\u001b[43m_isomorphisms\u001b[49m\u001b[43m(\u001b[49m\u001b[38;5;28;43mself\u001b[39;49m\u001b[43m,\u001b[49m\u001b[43m \u001b[49m\u001b[43mother\u001b[49m\u001b[43m)\u001b[49m\u001b[43m)\u001b[49m\n",
      "File \u001b[0;32m~/juja_backup/projects/other/sage/src/sage/schemes/elliptic_curves/ell_generic.py:2813\u001b[0m, in \u001b[0;36m<genexpr>\u001b[0;34m(.0)\u001b[0m\n\u001b[1;32m   2811\u001b[0m     \u001b[38;5;28mself\u001b[39m \u001b[38;5;241m=\u001b[39m \u001b[38;5;28mself\u001b[39m\u001b[38;5;241m.\u001b[39mchange_ring(field)\n\u001b[1;32m   2812\u001b[0m     other \u001b[38;5;241m=\u001b[39m other\u001b[38;5;241m.\u001b[39mchange_ring(field)\n\u001b[0;32m-> 2813\u001b[0m \u001b[38;5;28;01mreturn\u001b[39;00m \u001b[38;5;28msorted\u001b[39m\u001b[43m(\u001b[49m\u001b[43mwm\u001b[49m\u001b[38;5;241;43m.\u001b[39;49m\u001b[43mWeierstrassIsomorphism\u001b[49m\u001b[43m(\u001b[49m\u001b[38;5;28;43mself\u001b[39;49m\u001b[43m,\u001b[49m\u001b[43m \u001b[49m\u001b[43murst\u001b[49m\u001b[43m,\u001b[49m\u001b[43m \u001b[49m\u001b[43mother\u001b[49m\u001b[43m)\u001b[49m\n\u001b[1;32m   2814\u001b[0m \u001b[43m              \u001b[49m\u001b[38;5;28;43;01mfor\u001b[39;49;00m\u001b[43m \u001b[49m\u001b[43murst\u001b[49m\u001b[43m \u001b[49m\u001b[38;5;129;43;01min\u001b[39;49;00m\u001b[43m \u001b[49m\u001b[43mwm\u001b[49m\u001b[38;5;241;43m.\u001b[39;49m\u001b[43m_isomorphisms\u001b[49m\u001b[43m(\u001b[49m\u001b[38;5;28;43mself\u001b[39;49m\u001b[43m,\u001b[49m\u001b[43m \u001b[49m\u001b[43mother\u001b[49m\u001b[43m)\u001b[49m\u001b[43m)\u001b[49m\n",
      "File \u001b[0;32m~/juja_backup/projects/other/sage/src/sage/schemes/elliptic_curves/weierstrass_morphism.py:360\u001b[0m, in \u001b[0;36m_isomorphisms\u001b[0;34m(E, F)\u001b[0m\n\u001b[1;32m    357\u001b[0m c4E, c6E \u001b[38;5;241m=\u001b[39m E\u001b[38;5;241m.\u001b[39mc_invariants()\n\u001b[1;32m    358\u001b[0m c4F, c6F \u001b[38;5;241m=\u001b[39m F\u001b[38;5;241m.\u001b[39mc_invariants()\n\u001b[0;32m--> 360\u001b[0m \u001b[38;5;28;01mif\u001b[39;00m \u001b[43mj\u001b[49m\u001b[43m \u001b[49m\u001b[38;5;241;43m==\u001b[39;49m\u001b[43m \u001b[49m\u001b[38;5;241;43m0\u001b[39;49m:\n\u001b[1;32m    361\u001b[0m     m, um \u001b[38;5;241m=\u001b[39m \u001b[38;5;241m6\u001b[39m, c6E\u001b[38;5;241m/\u001b[39mc6F\n\u001b[1;32m    362\u001b[0m \u001b[38;5;28;01melif\u001b[39;00m j \u001b[38;5;241m==\u001b[39m \u001b[38;5;241m1728\u001b[39m:\n",
      "File \u001b[0;32m~/juja_backup/projects/other/sage/src/sage/structure/element.pyx:1099\u001b[0m, in \u001b[0;36msage.structure.element.Element.__richcmp__\u001b[0;34m()\u001b[0m\n\u001b[1;32m   1097\u001b[0m         return (<Element>self)._richcmp_(other, op)\n\u001b[1;32m   1098\u001b[0m     else:\n\u001b[0;32m-> 1099\u001b[0m         return coercion_model.richcmp(self, other, op)\n\u001b[1;32m   1100\u001b[0m \n\u001b[1;32m   1101\u001b[0m cpdef _richcmp_(left, right, int op):\n",
      "File \u001b[0;32m~/juja_backup/projects/other/sage/src/sage/structure/coerce.pyx:2023\u001b[0m, in \u001b[0;36msage.structure.coerce.CoercionModel.richcmp\u001b[0;34m()\u001b[0m\n\u001b[1;32m   2021\u001b[0m # Coerce to a common parent\n\u001b[1;32m   2022\u001b[0m try:\n\u001b[0;32m-> 2023\u001b[0m     x, y = self.canonical_coercion(x, y)\n\u001b[1;32m   2024\u001b[0m except (TypeError, NotImplementedError):\n\u001b[1;32m   2025\u001b[0m     pass\n",
      "File \u001b[0;32m~/juja_backup/projects/other/sage/src/sage/structure/coerce.pyx:1350\u001b[0m, in \u001b[0;36msage.structure.coerce.CoercionModel.canonical_coercion\u001b[0;34m()\u001b[0m\n\u001b[1;32m   1348\u001b[0m     x_elt = x\n\u001b[1;32m   1349\u001b[0m if y_map is not None:\n\u001b[0;32m-> 1350\u001b[0m     y_elt = (<Map>y_map)._call_(y)\n\u001b[1;32m   1351\u001b[0m else:\n\u001b[1;32m   1352\u001b[0m     y_elt = y\n",
      "File \u001b[0;32m~/juja_backup/projects/other/sage/src/sage/structure/coerce_maps.pyx:159\u001b[0m, in \u001b[0;36msage.structure.coerce_maps.DefaultConvertMap_unique._call_\u001b[0;34m()\u001b[0m\n\u001b[1;32m    157\u001b[0m cdef Parent C = self._codomain\n\u001b[1;32m    158\u001b[0m try:\n\u001b[0;32m--> 159\u001b[0m     return C._element_constructor(x)\n\u001b[1;32m    160\u001b[0m except Exception:\n\u001b[1;32m    161\u001b[0m     if print_warnings:\n",
      "File \u001b[0;32m~/juja_backup/projects/other/sage/src/sage/categories/sets_cat.py:1011\u001b[0m, in \u001b[0;36mSets.ParentMethods._element_constructor_from_element_class\u001b[0;34m(self, *args, **keywords)\u001b[0m\n\u001b[1;32m    991\u001b[0m \u001b[38;5;28;01mdef\u001b[39;00m \u001b[38;5;21m_element_constructor_from_element_class\u001b[39m(\u001b[38;5;28mself\u001b[39m, \u001b[38;5;241m*\u001b[39margs, \u001b[38;5;241m*\u001b[39m\u001b[38;5;241m*\u001b[39mkeywords):\n\u001b[1;32m    992\u001b[0m \u001b[38;5;250m    \u001b[39m\u001b[38;5;124;03m\"\"\"\u001b[39;00m\n\u001b[1;32m    993\u001b[0m \u001b[38;5;124;03m    The default constructor for elements of this parent ``self``.\u001b[39;00m\n\u001b[1;32m    994\u001b[0m \n\u001b[0;32m   (...)\u001b[0m\n\u001b[1;32m   1009\u001b[0m \u001b[38;5;124;03m        <class 'sage.categories.examples.sets_cat.PrimeNumbers_Inherits_with_category.element_class'>\u001b[39;00m\n\u001b[1;32m   1010\u001b[0m \u001b[38;5;124;03m    \"\"\"\u001b[39;00m\n\u001b[0;32m-> 1011\u001b[0m     \u001b[38;5;28;01mreturn\u001b[39;00m \u001b[38;5;28;43mself\u001b[39;49m\u001b[38;5;241;43m.\u001b[39;49m\u001b[43melement_class\u001b[49m\u001b[43m(\u001b[49m\u001b[38;5;28;43mself\u001b[39;49m\u001b[43m,\u001b[49m\u001b[43m \u001b[49m\u001b[38;5;241;43m*\u001b[39;49m\u001b[43margs\u001b[49m\u001b[43m,\u001b[49m\u001b[43m \u001b[49m\u001b[38;5;241;43m*\u001b[39;49m\u001b[38;5;241;43m*\u001b[39;49m\u001b[43mkeywords\u001b[49m\u001b[43m)\u001b[49m\n",
      "File \u001b[0;32m~/juja_backup/projects/other/sage/src/sage/rings/finite_rings/element_pari_ffelt.pyx:338\u001b[0m, in \u001b[0;36msage.rings.finite_rings.element_pari_ffelt.FiniteFieldElement_pari_ffelt.__init__\u001b[0;34m()\u001b[0m\n\u001b[1;32m    336\u001b[0m     # FinitePolyExtElement.__init__(self, parent)\n\u001b[1;32m    337\u001b[0m     self._parent = parent\n\u001b[0;32m--> 338\u001b[0m     self.construct_from(x)\n\u001b[1;32m    339\u001b[0m \n\u001b[1;32m    340\u001b[0m def __dealloc__(self):\n",
      "File \u001b[0;32m~/juja_backup/projects/other/sage/src/sage/rings/finite_rings/element_pari_ffelt.pyx:404\u001b[0m, in \u001b[0;36msage.rings.finite_rings.element_pari_ffelt.FiniteFieldElement_pari_ffelt.construct_from\u001b[0;34m()\u001b[0m\n\u001b[1;32m    402\u001b[0m g = (<pari_gen>self._parent._gen_pari).g\n\u001b[1;32m    403\u001b[0m x = objtogen(x)\n\u001b[0;32m--> 404\u001b[0m sig_on()\n\u001b[1;32m    405\u001b[0m x_GEN = (<pari_gen>x).g\n\u001b[1;32m    406\u001b[0m self.construct(_INT_to_FFELT(g, x_GEN))\n",
      "\u001b[0;31mSignalError\u001b[0m: Segmentation fault"
     ]
    }
   ],
   "source": [
    "pe.E1.automorphisms()"
   ]
  },
  {
   "cell_type": "code",
   "execution_count": null,
   "id": "02471766-6360-4780-ba28-83834893bf4b",
   "metadata": {},
   "outputs": [],
   "source": []
  }
 ],
 "metadata": {
  "kernelspec": {
   "display_name": "SageMath 10.5",
   "language": "sage",
   "name": "sagemath"
  },
  "language_info": {
   "codemirror_mode": {
    "name": "ipython",
    "version": 3
   },
   "file_extension": ".py",
   "mimetype": "text/x-python",
   "name": "sage",
   "nbconvert_exporter": "python",
   "pygments_lexer": "ipython3",
   "version": "3.12.3"
  }
 },
 "nbformat": 4,
 "nbformat_minor": 5
}
